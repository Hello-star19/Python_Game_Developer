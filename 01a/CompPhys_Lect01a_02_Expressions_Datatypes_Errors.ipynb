{
  "cells": [
    {
      "cell_type": "markdown",
      "id": "60e26945",
      "metadata": {
        "id": "60e26945"
      },
      "source": [
        "# Expressions, data types and Errors"
      ]
    },
    {
      "cell_type": "markdown",
      "id": "a00e7de4",
      "metadata": {
        "id": "a00e7de4"
      },
      "source": [
        "## Simple Expressions - Maths\n",
        "\n",
        "Everything in a notebook is in cells. Text like what you're reading right now goes in a 'Markdown' cell. Code goes in a code cell, like the one below. Try doing a simple math calculation like $2+2$, and push `Shift+Enter` or click 'Run' in the top bar to evaluate it."
      ]
    },
    {
      "cell_type": "code",
      "execution_count": 1,
      "id": "4b0249cf",
      "metadata": {
        "colab": {
          "base_uri": "https://localhost:8080/"
        },
        "id": "4b0249cf",
        "outputId": "085a53bc-35dd-4c23-a5a6-b53b768f5eda"
      },
      "outputs": [
        {
          "output_type": "execute_result",
          "data": {
            "text/plain": [
              "4"
            ]
          },
          "metadata": {},
          "execution_count": 1
        }
      ],
      "source": [
        "2+2"
      ]
    },
    {
      "cell_type": "markdown",
      "id": "6694c38c",
      "metadata": {
        "id": "6694c38c"
      },
      "source": [
        "When you evaluate a Python command in a code cell, the result is printed below the cell. You can put multiple lines in a cell by using `Enter` between them. When you evaluate the cell, the output is only the last value calculated. Try it."
      ]
    },
    {
      "cell_type": "code",
      "execution_count": null,
      "id": "b53993cb",
      "metadata": {
        "id": "b53993cb"
      },
      "outputs": [],
      "source": [
        "# prompt: help me\n",
        "\n",
        "# Example calculations\n",
        "2 + 2  # Output: 4\n",
        "5 * 3  # Output: 15\n",
        "\n",
        "# Only the result of the last calculation will be displayed\n",
        "10 / 2 # Output: 5.0\n",
        "20 - 5 # Output: 15\n"
      ]
    },
    {
      "cell_type": "markdown",
      "id": "c01d9d3d",
      "metadata": {
        "id": "c01d9d3d"
      },
      "source": [
        "Most math expressions are straightforward (**and you have a reference guide from week 1 of the 1st year module**). One slightly unusual thing is the power operator. We code $x^y$ as `x**y`. Try using this to:\n",
        " 1. Find $2^{10}$.\n",
        " 2. Find the square root of a million.\n",
        " 3. Find the cube root of $4913$."
      ]
    },
    {
      "cell_type": "code",
      "execution_count": 5,
      "id": "6998aab9",
      "metadata": {
        "colab": {
          "base_uri": "https://localhost:8080/"
        },
        "id": "6998aab9",
        "outputId": "11d172bc-e3f4-4a6a-f03c-9d98e62253d6"
      },
      "outputs": [
        {
          "output_type": "execute_result",
          "data": {
            "text/plain": [
              "16.999999999999996"
            ]
          },
          "metadata": {},
          "execution_count": 5
        }
      ],
      "source": [
        "2**10\n",
        "1000000**(1/2)\n",
        "4913**(1/3)\n"
      ]
    },
    {
      "cell_type": "markdown",
      "id": "266aa892",
      "metadata": {
        "id": "266aa892"
      },
      "source": [
        "The standard division operator is `/`, for instance $1/4 = 0.25$. There is also the integer division operator `//` and the remainder operator `%`. Try a few things like `7//3` and `7%3` to remind yourself how they work. Which would you use to find out if a number is even? Demonstrate this below."
      ]
    },
    {
      "cell_type": "code",
      "execution_count": 20,
      "id": "f2d1883a",
      "metadata": {
        "colab": {
          "base_uri": "https://localhost:8080/"
        },
        "id": "f2d1883a",
        "outputId": "552ba4cc-4982-4856-9f3f-5c2c9476e477"
      },
      "outputs": [
        {
          "output_type": "stream",
          "name": "stdout",
          "text": [
            "19 is odd\n"
          ]
        }
      ],
      "source": [
        "# prompt: help\n",
        "\n",
        "# Find out if a number is even\n",
        "number = 19  # Change this number to test different values\n",
        "\n",
        "if number % 2 == 0:\n",
        "    print((number), \"is even\")\n",
        "else:\n",
        "    print((number), \"is odd\")\n"
      ]
    },
    {
      "cell_type": "markdown",
      "id": "064e0bba",
      "metadata": {
        "id": "064e0bba"
      },
      "source": [
        "## Variables\n",
        "\n",
        "Variables are used to store values and other objects. To create a variable, you use the assignment operator, like `x = 1`. Let's try it. Set x to 1, y to 2, and then calculate something with them, like x*y."
      ]
    },
    {
      "cell_type": "code",
      "execution_count": null,
      "id": "42c37e71",
      "metadata": {
        "id": "42c37e71"
      },
      "outputs": [],
      "source": [
        "# prompt: help\n",
        "\n",
        "# This code helps you understand the content of the provided text file.\n",
        "# It demonstrates basic Python operations, variable assignments, and conditional statements.\n",
        "\n",
        "# Simple Expressions - Maths\n",
        "# The following lines perform basic arithmetic operations and demonstrate how the output is displayed.\n",
        "# 2 + 2  # Output: 4\n",
        "# 5 * 3  # Output: 15\n",
        "\n",
        "# Only the result of the last calculation in a cell is displayed:\n",
        "# 10 / 2 # Output: 5.0\n",
        "# 20 - 5 # Output: 15\n",
        "\n",
        "\n",
        "# Power operator demonstration:\n",
        "# 2**10 # Output: 1024\n",
        "# 1000000**(1/2) # Output: 1000.0\n",
        "# 4913**(1/3) # Output: 17.0\n",
        "\n",
        "\n",
        "# Integer division and remainder operators:\n",
        "# 7//3 # Output: 2\n",
        "# 7%3 # Output: 1\n",
        "\n",
        "# Demonstrating how to check for even numbers:\n",
        "number = 19  # Change this number to test different values\n",
        "if number % 2 == 0:\n",
        "  print(number, \"is even\")\n",
        "else:\n",
        "  print(number, \"is odd\")\n",
        "\n",
        "\n",
        "# Variables:\n",
        "# Variables store values.  Assignment operator '=' is used.\n",
        "# The following lines demonstrate variable assignment and calculation:\n",
        "# x = 1\n",
        "# y = 2\n",
        "# x * y # Output: 2\n",
        "\n",
        "\n",
        "# Note: The code within comments (#) is not executed by Python.\n",
        "#       This is just for documentation purposes to explain what the code is doing.\n"
      ]
    },
    {
      "cell_type": "markdown",
      "id": "180026c9",
      "metadata": {
        "id": "180026c9"
      },
      "source": [
        "What happens if we set a variable to another one? Try doing `x = y`. Think about what x and y should be, *then* test whether you're correct."
      ]
    },
    {
      "cell_type": "code",
      "execution_count": null,
      "id": "d9c0becb",
      "metadata": {
        "id": "d9c0becb"
      },
      "outputs": [],
      "source": [
        "# prompt: help\n",
        "\n",
        "x = 1\n",
        "y = 2\n",
        "x = y\n",
        "print(x)\n",
        "y\n"
      ]
    },
    {
      "cell_type": "markdown",
      "id": "3ff37e7b",
      "metadata": {
        "id": "3ff37e7b"
      },
      "source": [
        "Now set y to something else, like `y = 3`. What will x be after doing that? There are two possibilities. Think about them both, then test it. Try to explain to someone else the two possibilities, and what you've just learned about how Python treats variables."
      ]
    },
    {
      "cell_type": "code",
      "execution_count": null,
      "id": "cddb2578",
      "metadata": {
        "id": "cddb2578"
      },
      "outputs": [],
      "source": [
        "# prompt: help\n",
        "\n",
        "# This code helps you understand the content of the provided text file.\n",
        "# It demonstrates basic Python operations, variable assignments, and conditional statements.\n",
        "\n",
        "# Simple Expressions - Maths\n",
        "# The following lines perform basic arithmetic operations and demonstrate how the output is displayed.\n",
        "# 2 + 2  # Output: 4\n",
        "# 5 * 3  # Output: 15\n",
        "\n",
        "# Only the result of the last calculation in a cell is displayed:\n",
        "# 10 / 2 # Output: 5.0\n",
        "# 20 - 5 # Output: 15\n",
        "\n",
        "\n",
        "# Power operator demonstration:\n",
        "# 2**10 # Output: 1024\n",
        "# 1000000**(1/2) # Output: 1000.0\n",
        "# 4913**(1/3) # Output: 17.0\n",
        "\n",
        "\n",
        "# Integer division and remainder operators:\n",
        "# 7//3 # Output: 2\n",
        "# 7%3 # Output: 1\n",
        "\n",
        "# Demonstrating how to check for even numbers:\n",
        "number = 19  # Change this number to test different values\n",
        "if number % 2 == 0:\n",
        "  print(number, \"is even\")\n",
        "else:\n",
        "  print(number, \"is odd\")\n",
        "\n",
        "\n",
        "# Variables:\n",
        "# Variables store values.  Assignment operator '=' is used.\n",
        "# The following lines demonstrate variable assignment and calculation:\n",
        "# x = 1\n",
        "# y = 2\n",
        "# x * y # Output: 2\n",
        "\n",
        "\n",
        "# Note: The code within comments (#) is not executed by Python.\n",
        "#       This is just for documentation purposes to explain what the code is doing.\n",
        "\n",
        "# What happens if we set a variable to another one? Try doing `x = y`. Think about what x and y should be, *then* test whether you're correct.\n",
        "\n",
        "x = 1\n",
        "y = 2\n",
        "x = y\n",
        "print(x) # Output: 2\n",
        "print(y) # Output: 2\n",
        "\n",
        "# Now set y to something else, like `y = 3`. What will x be after doing that? There are two possibilities. Think about them both, then test it. Try to explain to someone else the two possibilities, and what you've just learned about how Python treats variables.\n",
        "\n",
        "y = 3\n",
        "print(x) # Output: 2\n",
        "print(y) # Output: 3\n",
        "\n",
        "# Explanation:\n",
        "# When you assign y to x (x = y), you are not creating a link between them. Instead, you are copying the value of y into x. So, changing y later will not affect x's value, as they now hold separate, independent copies of the data.\n"
      ]
    },
    {
      "cell_type": "markdown",
      "id": "3b161e1e",
      "metadata": {
        "id": "3b161e1e"
      },
      "source": [
        "Variable names should be descriptive but not too long. Any name made with letters, numbers, and underscores will work if it's not a reserved Python keyword. Examples are `Energy`, `variable7`, and `very_long_variable_name`. Try assigning to a few of your own."
      ]
    },
    {
      "cell_type": "code",
      "execution_count": null,
      "id": "b3923582",
      "metadata": {
        "id": "b3923582"
      },
      "outputs": [],
      "source": []
    },
    {
      "cell_type": "markdown",
      "id": "8eec9d0d",
      "metadata": {
        "id": "8eec9d0d"
      },
      "source": [
        "You can make your code clear by choosing good variable names, and also by writing comments. A comment is made by putting text after a hash sign."
      ]
    },
    {
      "cell_type": "code",
      "execution_count": null,
      "id": "edc38c9f",
      "metadata": {
        "id": "edc38c9f"
      },
      "outputs": [],
      "source": [
        "# Example of a Python comment\n",
        "\n",
        "some_variable = 5 # You can put a comment after a statement\n",
        "\n",
        "# You can add a hash sign before a line\n",
        "# to temporarily stop it from being evaluated\n",
        "# when you're trying to debug your code, e.g.:\n",
        "\n",
        "# another_variable = 10*(some broken code)"
      ]
    },
    {
      "cell_type": "markdown",
      "id": "f3885806",
      "metadata": {
        "id": "f3885806"
      },
      "source": [
        "## Some basic data types\n",
        "\n",
        "As we showed last year, python has many different \"types\" of data/object. To find out the type of an object, call the function `type`. Try:\n",
        " 1. `type(1)`\n",
        " 2. `type(0.5)`"
      ]
    },
    {
      "cell_type": "code",
      "execution_count": 22,
      "id": "1ad2aac9",
      "metadata": {
        "colab": {
          "base_uri": "https://localhost:8080/"
        },
        "id": "1ad2aac9",
        "outputId": "7c84d331-9924-4ac1-9362-fd3a86d3ce55"
      },
      "outputs": [
        {
          "output_type": "execute_result",
          "data": {
            "text/plain": [
              "float"
            ]
          },
          "metadata": {},
          "execution_count": 22
        }
      ],
      "source": [
        "type(0.5)"
      ]
    },
    {
      "cell_type": "markdown",
      "id": "34e2b520",
      "metadata": {
        "id": "34e2b520"
      },
      "source": [
        "Think about what will happen if you do `type(x)` or `type(y)`, based on your earlier experiment of assigning `x = y`? Will the type be something like 'variable' or will it be 'int'? Discuss with someone, and once you have a prediction, try it."
      ]
    },
    {
      "cell_type": "code",
      "execution_count": null,
      "id": "bca0870c",
      "metadata": {
        "id": "bca0870c",
        "outputId": "afea961d-d7c8-417f-bdbd-3dae502499b3"
      },
      "outputs": [
        {
          "ename": "NameError",
          "evalue": "name 'x' is not defined",
          "output_type": "error",
          "traceback": [
            "\u001b[0;31m---------------------------------------------------------------------------\u001b[0m",
            "\u001b[0;31mNameError\u001b[0m                                 Traceback (most recent call last)",
            "Input \u001b[0;32mIn [2]\u001b[0m, in \u001b[0;36m<module>\u001b[0;34m\u001b[0m\n\u001b[1;32m      1\u001b[0m \u001b[38;5;66;03m# Fill in the comment, then evaluate\u001b[39;00m\n\u001b[1;32m      2\u001b[0m \u001b[38;5;66;03m# I expect the result to be ...\u001b[39;00m\n\u001b[0;32m----> 3\u001b[0m \u001b[38;5;28mtype\u001b[39m(\u001b[43mx\u001b[49m)\n",
            "\u001b[0;31mNameError\u001b[0m: name 'x' is not defined"
          ]
        }
      ],
      "source": [
        "# Fill in the comment, then evaluate\n",
        "# I expect the result to be ...\n",
        "# type(x) UNCOMMENT THIS"
      ]
    },
    {
      "cell_type": "markdown",
      "id": "36e97114",
      "metadata": {
        "id": "36e97114"
      },
      "source": [
        "The float type represents any real number, while int is used when something is definitely an integer. Anything with a decimal point is a float, even for example `5.`."
      ]
    },
    {
      "cell_type": "code",
      "execution_count": null,
      "id": "f2252565",
      "metadata": {
        "id": "f2252565",
        "outputId": "7407faf4-b75c-402b-d7ce-26dd630b2250"
      },
      "outputs": [
        {
          "data": {
            "text/plain": [
              "float"
            ]
          },
          "execution_count": 3,
          "metadata": {},
          "output_type": "execute_result"
        }
      ],
      "source": [
        "type(5.)"
      ]
    },
    {
      "cell_type": "markdown",
      "id": "256561ac",
      "metadata": {
        "id": "256561ac"
      },
      "source": [
        "When you combine types in an expression, Python will do the most sensible thing. What is the type of `1/2`? What about `5.*2`?"
      ]
    },
    {
      "cell_type": "code",
      "execution_count": null,
      "id": "83dc8fa7",
      "metadata": {
        "id": "83dc8fa7"
      },
      "outputs": [],
      "source": []
    },
    {
      "cell_type": "code",
      "execution_count": null,
      "id": "83d3fe97",
      "metadata": {
        "id": "83d3fe97"
      },
      "outputs": [],
      "source": []
    },
    {
      "cell_type": "markdown",
      "id": "b97b58c1",
      "metadata": {
        "id": "b97b58c1"
      },
      "source": [
        "There are also complex numbers, which are made in the form `1+2j` or `0.5-0.3j`. What is their type?"
      ]
    },
    {
      "cell_type": "code",
      "execution_count": null,
      "id": "cd9303f9",
      "metadata": {
        "id": "cd9303f9"
      },
      "outputs": [],
      "source": []
    },
    {
      "cell_type": "markdown",
      "id": "ee0404a9",
      "metadata": {
        "id": "ee0404a9"
      },
      "source": [
        "## The string type\n",
        "\n",
        "A string is made by enclosing something in quotes. Here are three different ways of making a string. All are allowed, and you'll see all of them."
      ]
    },
    {
      "cell_type": "code",
      "execution_count": null,
      "id": "37508a31",
      "metadata": {
        "id": "37508a31"
      },
      "outputs": [],
      "source": [
        "string1 = 'string1'\n",
        "string2 = \"string2\"\n",
        "string3 = \"\"\"string3\"\"\" # Triple quotes"
      ]
    },
    {
      "cell_type": "markdown",
      "id": "c963280c",
      "metadata": {
        "id": "c963280c"
      },
      "source": [
        "The first two are common with short strings. If you want a long string that spans several lines, or that contains quotes in it, you can enclose it in triple quotes.\n",
        "\n",
        "Now let's try some operations on strings. For each, think about what you expect, remembering that Python should try to do the most sensible thing if it can.\n",
        " 1. Can you add two strings?\n",
        " 2. Can you add a number to a string?\n",
        " 3. Can you multiply two strings?\n",
        " 4. Can you multiply a string by an integer?"
      ]
    },
    {
      "cell_type": "code",
      "execution_count": null,
      "id": "47444cad",
      "metadata": {
        "id": "47444cad"
      },
      "outputs": [],
      "source": []
    },
    {
      "cell_type": "code",
      "execution_count": null,
      "id": "0cd8bf92",
      "metadata": {
        "id": "0cd8bf92"
      },
      "outputs": [],
      "source": []
    },
    {
      "cell_type": "code",
      "execution_count": null,
      "id": "167be7d3",
      "metadata": {
        "id": "167be7d3"
      },
      "outputs": [],
      "source": []
    },
    {
      "cell_type": "code",
      "execution_count": null,
      "id": "f07ad5c4",
      "metadata": {
        "id": "f07ad5c4"
      },
      "outputs": [],
      "source": []
    },
    {
      "cell_type": "markdown",
      "id": "0a741629",
      "metadata": {
        "id": "0a741629"
      },
      "source": [
        "## Type Conversion\n",
        "\n",
        "The name of the type is also a function that converts an object to that type (if possible). For instance, you can turn an integer to a float by doing `float(5)`.\n",
        "\n",
        " 1. Convert a float to an integer. What does it do with the decimal part? (Try a few to be sure)\n",
        " 2. What kind of strings can be converted to int or float?"
      ]
    },
    {
      "cell_type": "code",
      "execution_count": null,
      "id": "0e300946",
      "metadata": {
        "id": "0e300946"
      },
      "outputs": [],
      "source": []
    },
    {
      "cell_type": "code",
      "execution_count": null,
      "id": "a71e36b3",
      "metadata": {
        "id": "a71e36b3"
      },
      "outputs": [],
      "source": []
    },
    {
      "cell_type": "markdown",
      "id": "d9924153",
      "metadata": {
        "id": "d9924153"
      },
      "source": [
        "## Errors\n",
        "\n",
        "By now, you've seen a few examples of errors. Let's look at one in detail. Below, we've tried to access a variable that doesn't exist. Python stops, but gives us a lot of helpful information. It tells us the name of the error, and gives a traceback. The traceback points to the line with the error. The final line gives more detail about this specific error - here it names the variable which we tried to access but wasn't actually defined."
      ]
    },
    {
      "cell_type": "code",
      "execution_count": null,
      "id": "6cd332d8",
      "metadata": {
        "id": "6cd332d8",
        "outputId": "552fc313-233d-441e-a9d7-05106adf81bf"
      },
      "outputs": [
        {
          "ename": "NameError",
          "evalue": "name 'an_undefined_variable' is not defined",
          "output_type": "error",
          "traceback": [
            "\u001b[0;31m---------------------------------------------------------------------------\u001b[0m",
            "\u001b[0;31mNameError\u001b[0m                                 Traceback (most recent call last)",
            "Input \u001b[0;32mIn [6]\u001b[0m, in \u001b[0;36m<module>\u001b[0;34m\u001b[0m\n\u001b[1;32m      1\u001b[0m z \u001b[38;5;241m=\u001b[39m \u001b[38;5;241m0\u001b[39m\n\u001b[0;32m----> 2\u001b[0m \u001b[43man_undefined_variable\u001b[49m\n\u001b[1;32m      3\u001b[0m \u001b[38;5;241m2\u001b[39m\u001b[38;5;241m*\u001b[39mz\n",
            "\u001b[0;31mNameError\u001b[0m: name 'an_undefined_variable' is not defined"
          ]
        }
      ],
      "source": [
        "z = 0\n",
        "an_undefined_variable\n",
        "2*z"
      ]
    },
    {
      "cell_type": "markdown",
      "id": "b48ed1a7",
      "metadata": {
        "id": "b48ed1a7"
      },
      "source": [
        "Try going back and looking at other errors from before. Do they make sense? See how many other different error types you can discover below."
      ]
    },
    {
      "cell_type": "code",
      "execution_count": null,
      "id": "ca3dd0b8",
      "metadata": {
        "id": "ca3dd0b8"
      },
      "outputs": [],
      "source": []
    },
    {
      "cell_type": "code",
      "execution_count": null,
      "id": "367f73e6",
      "metadata": {
        "id": "367f73e6"
      },
      "outputs": [],
      "source": []
    },
    {
      "cell_type": "code",
      "execution_count": null,
      "id": "e7fb441b",
      "metadata": {
        "id": "e7fb441b"
      },
      "outputs": [],
      "source": []
    }
  ],
  "metadata": {
    "kernelspec": {
      "display_name": "Python 3 (ipykernel)",
      "language": "python",
      "name": "python3"
    },
    "language_info": {
      "codemirror_mode": {
        "name": "ipython",
        "version": 3
      },
      "file_extension": ".py",
      "mimetype": "text/x-python",
      "name": "python",
      "nbconvert_exporter": "python",
      "pygments_lexer": "ipython3",
      "version": "3.9.7"
    },
    "colab": {
      "provenance": []
    }
  },
  "nbformat": 4,
  "nbformat_minor": 5
}